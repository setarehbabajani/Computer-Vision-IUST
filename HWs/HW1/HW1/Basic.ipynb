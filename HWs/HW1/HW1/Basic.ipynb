{
  "cells": [
    {
      "cell_type": "markdown",
      "id": "4462c0f9",
      "metadata": {
        "id": "4462c0f9"
      },
      "source": [
        "## Introduction to Python\n",
        "Open an interactive python environment (python shell, ipython shell, or jupyter notebook), run the following commands and observe the output:"
      ]
    },
    {
      "cell_type": "markdown",
      "id": "3e6c9439",
      "metadata": {
        "id": "3e6c9439"
      },
      "source": [
        "### Integer, float, string, and boolean types"
      ]
    },
    {
      "cell_type": "code",
      "execution_count": 1,
      "id": "fb239abe",
      "metadata": {
        "id": "fb239abe",
        "colab": {
          "base_uri": "https://localhost:8080/"
        },
        "outputId": "b2c4d298-80bc-4df4-ca83-8d14a3eb24c8"
      },
      "outputs": [
        {
          "output_type": "stream",
          "name": "stdout",
          "text": [
            "type(i) : <class 'int'>\n",
            "type(f) : <class 'float'>\n",
            "type(s) : <class 'str'>\n",
            "type(t) : <class 'bool'>\n"
          ]
        }
      ],
      "source": [
        "i = 1\n",
        "f = 1.1\n",
        "s = \"hello!\"\n",
        "t = True\n",
        "print(f'type(i) : {type(i)}')\n",
        "print(f'type(f) : {type(f)}')\n",
        "print(f'type(s) : {type(s)}')\n",
        "print(f'type(t) : {type(t)}')"
      ]
    },
    {
      "cell_type": "markdown",
      "id": "e8bb73c4",
      "metadata": {
        "id": "e8bb73c4"
      },
      "source": [
        "### Conversion between types (Casting)"
      ]
    },
    {
      "cell_type": "code",
      "execution_count": 2,
      "id": "5dffdb98",
      "metadata": {
        "id": "5dffdb98",
        "colab": {
          "base_uri": "https://localhost:8080/"
        },
        "outputId": "f8255ac8-c6f0-48a5-b514-e81681c74541"
      },
      "outputs": [
        {
          "output_type": "stream",
          "name": "stdout",
          "text": [
            "str(i) : 1\n",
            "str(f) : 1.1\n",
            "int(f) : 1\n",
            "int(\"123\") : 123\n",
            "float(i) : 1.0\n",
            "float(\"1.1\") : 1.1\n",
            "int(t) : 1\n",
            "int(False) : 0\n"
          ]
        }
      ],
      "source": [
        "print(f'str(i) : {str(i)}')\n",
        "print(f'str(f) : {str(f)}')\n",
        "print(f'int(f) : {int(f)}')\n",
        "print(f'int(\"123\") : {int(\"123\")}')\n",
        "print(f'float(i) : {float(i)}')\n",
        "print(f'float(\"1.1\") : {float(\"1.1\")}')\n",
        "print(f'int(t) : {int(t)}')\n",
        "print(f'int(False) : {int(False)}')"
      ]
    },
    {
      "cell_type": "markdown",
      "id": "36ea9478",
      "metadata": {
        "id": "36ea9478"
      },
      "source": [
        "### Basic operation"
      ]
    },
    {
      "cell_type": "code",
      "execution_count": 3,
      "id": "ad4329c6",
      "metadata": {
        "id": "ad4329c6",
        "colab": {
          "base_uri": "https://localhost:8080/"
        },
        "outputId": "1ab7d915-f40f-4603-a434-580339b84506"
      },
      "outputs": [
        {
          "output_type": "stream",
          "name": "stdout",
          "text": [
            "a*b : 30\n",
            "a+b : 13\n",
            "b**a : 1000\n",
            "b/a : 3.3333333333333335\n",
            "b//a : 3\n",
            "b%a : 1\n"
          ]
        }
      ],
      "source": [
        "a = 3\n",
        "b = 10\n",
        "print(f'a*b : {a*b}')\n",
        "print(f'a+b : {a+b}')\n",
        "print(f'b**a : {b**a}')\n",
        "print(f'b/a : {b/a}')\n",
        "print(f'b//a : {b//a}')\n",
        "print(f'b%a : {b%a}')"
      ]
    },
    {
      "cell_type": "code",
      "execution_count": 4,
      "id": "68eabc75",
      "metadata": {
        "id": "68eabc75",
        "colab": {
          "base_uri": "https://localhost:8080/"
        },
        "outputId": "5c46e02e-b713-4f94-d2fe-04f312c97435"
      },
      "outputs": [
        {
          "output_type": "stream",
          "name": "stdout",
          "text": [
            "c : 12\n"
          ]
        }
      ],
      "source": [
        "c = 4\n",
        "c *= 3\n",
        "print(f'c : {c}')"
      ]
    },
    {
      "cell_type": "code",
      "execution_count": 5,
      "id": "0007b776",
      "metadata": {
        "id": "0007b776",
        "colab": {
          "base_uri": "https://localhost:8080/"
        },
        "outputId": "2203a6da-da7c-4668-a0c9-6fcf0796d2d6"
      },
      "outputs": [
        {
          "output_type": "stream",
          "name": "stdout",
          "text": [
            "a == b : False\n",
            "a != b : True\n",
            "a < b : True\n",
            "a > b : False\n",
            "a <= b : True\n",
            "a >= b : False\n",
            "not(a == b) : True\n",
            "a < 5 or a > 5 : True\n",
            "a < 5 and a > 5 : False\n"
          ]
        }
      ],
      "source": [
        "print(f'a == b : {a == b}')\n",
        "print(f'a != b : {a != b}')\n",
        "print(f'a < b : {a < b}')\n",
        "print(f'a > b : {a > b}')\n",
        "print(f'a <= b : {a <= b}')\n",
        "print(f'a >= b : {a >= b}')\n",
        "print(f'not(a == b) : {not(a == b)}')\n",
        "print(f'a < 5 or a > 5 : {a < 5 or a > 5}')\n",
        "print(f'a < 5 and a > 5 : {a < 5 and a > 5}')"
      ]
    },
    {
      "cell_type": "markdown",
      "id": "51d9c86f",
      "metadata": {
        "id": "51d9c86f"
      },
      "source": [
        "### String operation"
      ]
    },
    {
      "cell_type": "code",
      "execution_count": 6,
      "id": "a0b4f641",
      "metadata": {
        "id": "a0b4f641",
        "colab": {
          "base_uri": "https://localhost:8080/"
        },
        "outputId": "b645433a-c642-4baf-e0db-a500f6bbd9c0"
      },
      "outputs": [
        {
          "output_type": "stream",
          "name": "stdout",
          "text": [
            "s == s2 : True\n",
            "len(s) : 5\n",
            "s + r : hello123\n",
            "s[0] : h\n",
            "s[1] : e\n",
            "s[-1] : o\n",
            "s[1:4] : ell\n",
            "s[1:] : ello\n",
            "s[:-1] : hell\n",
            "s[::2] : hlo\n"
          ]
        }
      ],
      "source": [
        "s = 'hello'\n",
        "s2 = 'hello'\n",
        "print(f's == s2 : {s == s2}')\n",
        "print(f'len(s) : {len(s)}')\n",
        "\n",
        "r = '123'\n",
        "print(f's + r : {s + r}')\n",
        "\n",
        "print(f's[0] : {s[0]}')\n",
        "print(f's[1] : {s[1]}')\n",
        "print(f's[-1] : {s[-1]}')\n",
        "print(f's[1:4] : {s[1:4]}')\n",
        "print(f's[1:] : {s[1:]}')\n",
        "print(f's[:-1] : {s[:-1]}')\n",
        "print(f's[::2] : {s[::2]}')"
      ]
    },
    {
      "cell_type": "markdown",
      "id": "c49d386b",
      "metadata": {
        "id": "c49d386b"
      },
      "source": [
        "### Tuples"
      ]
    },
    {
      "cell_type": "code",
      "execution_count": 7,
      "id": "e362fa12",
      "metadata": {
        "id": "e362fa12",
        "colab": {
          "base_uri": "https://localhost:8080/",
          "height": 245
        },
        "outputId": "a20cec77-1f61-4cbd-d54d-73185f6cc02a"
      },
      "outputs": [
        {
          "output_type": "stream",
          "name": "stdout",
          "text": [
            "p : (2, 'abc', 13.2)\n",
            "p[0] : 2\n",
            "p[-1] : 13.2\n",
            "len(p) : 3\n"
          ]
        },
        {
          "output_type": "error",
          "ename": "TypeError",
          "evalue": "'tuple' object does not support item assignment",
          "traceback": [
            "\u001b[0;31m---------------------------------------------------------------------------\u001b[0m",
            "\u001b[0;31mTypeError\u001b[0m                                 Traceback (most recent call last)",
            "\u001b[0;32m<ipython-input-7-1c3062d4fbcc>\u001b[0m in \u001b[0;36m<cell line: 7>\u001b[0;34m()\u001b[0m\n\u001b[1;32m      5\u001b[0m \u001b[0mprint\u001b[0m\u001b[0;34m(\u001b[0m\u001b[0;34mf'p[-1] : {p[-1]}'\u001b[0m\u001b[0;34m)\u001b[0m\u001b[0;34m\u001b[0m\u001b[0;34m\u001b[0m\u001b[0m\n\u001b[1;32m      6\u001b[0m \u001b[0mprint\u001b[0m\u001b[0;34m(\u001b[0m\u001b[0;34mf'len(p) : {len(p)}'\u001b[0m\u001b[0;34m)\u001b[0m\u001b[0;34m\u001b[0m\u001b[0;34m\u001b[0m\u001b[0m\n\u001b[0;32m----> 7\u001b[0;31m \u001b[0mp\u001b[0m\u001b[0;34m[\u001b[0m\u001b[0;36m0\u001b[0m\u001b[0;34m]\u001b[0m \u001b[0;34m=\u001b[0m \u001b[0;36m100\u001b[0m   \u001b[0;31m# Pay attention to the error\u001b[0m\u001b[0;34m\u001b[0m\u001b[0;34m\u001b[0m\u001b[0m\n\u001b[0m",
            "\u001b[0;31mTypeError\u001b[0m: 'tuple' object does not support item assignment"
          ]
        }
      ],
      "source": [
        "t = (1,2,4)\n",
        "p =(2, 'abc', 13.2)\n",
        "print(f'p : {p}')\n",
        "print(f'p[0] : {p[0]}')\n",
        "print(f'p[-1] : {p[-1]}')\n",
        "print(f'len(p) : {len(p)}')\n",
        "p[0] = 100   # Pay attention to the error -> once it created, it cannot be changed!"
      ]
    },
    {
      "cell_type": "markdown",
      "id": "34fcc3d0",
      "metadata": {
        "id": "34fcc3d0"
      },
      "source": [
        "### List"
      ]
    },
    {
      "cell_type": "code",
      "execution_count": 8,
      "id": "7630a56a",
      "metadata": {
        "id": "7630a56a",
        "colab": {
          "base_uri": "https://localhost:8080/"
        },
        "outputId": "f555bf1d-0e46-4eb9-dc64-dfc0b9eb1119"
      },
      "outputs": [
        {
          "output_type": "stream",
          "name": "stdout",
          "text": [
            "l : [1, 2, 3, 4]\n",
            "l : [1, 2, 3, 4, True]\n",
            "len(l) : 5\n",
            "l : [1, 2, 3, 4, True, 5]\n",
            "[100, 1, 2, 3, 4, True, 5]\n",
            "100 in l : True\n",
            "101 in l : False\n",
            "l : [100, 1, 2, 3, 4, True, 5, 'a', 'b', 'c']\n",
            "l : [100, 1, 2, 3, 4, True, 5, 'a', 'b', 'c', ['e', 'f', 'g']]\n",
            "l.pop() : ['e', 'f', 'g']\n",
            "l : [100, 1, 2, 3, 4, True, 5, 'a', 'b', 'c']\n",
            "l.pop(5) : True\n",
            "l : [100, 1, 2, 3, 4, 5, 'a', 'b', 'c']\n"
          ]
        }
      ],
      "source": [
        "l = [1, 2, 3, 4]\n",
        "print(f'l : {l}')\n",
        "\n",
        "l = l + [True]\n",
        "print(f'l : {l}')\n",
        "\n",
        "print(f'len(l) : {len(l)}')\n",
        "\n",
        "l.append(5) # to the end\n",
        "print(f'l : {l}')\n",
        "\n",
        "l.insert(0,100) # to the first of it\n",
        "print(l)\n",
        "\n",
        "print(f'100 in l : {100 in l}')\n",
        "print(f'101 in l : {101 in l}')\n",
        "\n",
        "l.extend(['a', 'b', 'c']) # we can add a list of variables to our list\n",
        "print(f'l : {l}')\n",
        "\n",
        "l.append(['e', 'f', 'g']) # add the list not its elements!(just one variable)\n",
        "print(f'l : {l}')\n",
        "\n",
        "print(f'l.pop() : {l.pop()}')\n",
        "print(f'l : {l}')\n",
        "print(f'l.pop(5) : {l.pop(5)}')\n",
        "print(f'l : {l}')"
      ]
    },
    {
      "cell_type": "code",
      "execution_count": 9,
      "id": "5d98e8d1",
      "metadata": {
        "id": "5d98e8d1",
        "colab": {
          "base_uri": "https://localhost:8080/"
        },
        "outputId": "aa529d50-79eb-4862-b203-767599cb5f00"
      },
      "outputs": [
        {
          "output_type": "stream",
          "name": "stdout",
          "text": [
            "l[0] : 100\n",
            "l[1] : 101\n",
            "l[-1] : 112\n",
            "l[1:5] : [101, 102, 103, 104]\n",
            "l[::-1] : [112, 111, 110, 109, 108, 107, 106, 105, 104, 103, 102, 101, 100]\n",
            "l : [112, 111, 110, 109, 108, 107, 106, 105, 104, 103, 102, 101, 100]\n",
            "l : [100, 101, 102, 103, 104, 105, 106, 107, 108, 109, 110, 111, 112]\n"
          ]
        }
      ],
      "source": [
        "l=[100,101,102,103,104,105,106,107,108,109,110,111,112]\n",
        "\n",
        "print(f'l[0] : {l[0]}')\n",
        "print(f'l[1] : {l[1]}')\n",
        "print(f'l[-1] : {l[-1]}')\n",
        "print(f'l[1:5] : {l[1:5]}')\n",
        "print(f'l[::-1] : {l[::-1]}')\n",
        "\n",
        "l.reverse()\n",
        "print(f'l : {l}')\n",
        "\n",
        "l.sort()\n",
        "print(f'l : {l}')"
      ]
    },
    {
      "cell_type": "code",
      "execution_count": 10,
      "id": "b97665df",
      "metadata": {
        "id": "b97665df",
        "colab": {
          "base_uri": "https://localhost:8080/"
        },
        "outputId": "254bf031-2b0f-4543-fa7c-01beb4425305"
      },
      "outputs": [
        {
          "output_type": "stream",
          "name": "stdout",
          "text": [
            "l : [100, 0, 102, 103, 104, 105, 106, 107, 108, 109, 110, 111, 112]\n"
          ]
        }
      ],
      "source": [
        "l[1] = 0\n",
        "print(f'l : {l}')"
      ]
    },
    {
      "cell_type": "markdown",
      "id": "afc2f74d",
      "metadata": {
        "id": "afc2f74d"
      },
      "source": [
        "### The range function"
      ]
    },
    {
      "cell_type": "code",
      "execution_count": 11,
      "id": "f7e20ed9",
      "metadata": {
        "id": "f7e20ed9",
        "colab": {
          "base_uri": "https://localhost:8080/"
        },
        "outputId": "391b6c43-a42d-4d03-f653-ed9dc98987e5"
      },
      "outputs": [
        {
          "output_type": "stream",
          "name": "stdout",
          "text": [
            "range(10) : range(0, 10)\n",
            "list(range(10)) : [0, 1, 2, 3, 4, 5, 6, 7, 8, 9]\n",
            "list(range(4,30,3)) : [4, 7, 10, 13, 16, 19, 22, 25, 28]\n"
          ]
        }
      ],
      "source": [
        "print(f'range(10) : {range(10)}')\n",
        "print(f'list(range(10)) : {list(range(10))}')\n",
        "print(f'list(range(4,30,3)) : {list(range(4,30,3))}')"
      ]
    },
    {
      "cell_type": "markdown",
      "id": "471d7998",
      "metadata": {
        "id": "471d7998"
      },
      "source": [
        "### Dictionaries"
      ]
    },
    {
      "cell_type": "code",
      "execution_count": 14,
      "id": "f655f26f",
      "metadata": {
        "id": "f655f26f",
        "colab": {
          "base_uri": "https://localhost:8080/",
          "height": 211
        },
        "outputId": "5519553f-f597-4d38-cff0-cf0b1379e4b9"
      },
      "outputs": [
        {
          "output_type": "stream",
          "name": "stdout",
          "text": [
            "d[1] : hello\n",
            "d[8] : 1.4\n"
          ]
        },
        {
          "output_type": "error",
          "ename": "KeyError",
          "evalue": "2",
          "traceback": [
            "\u001b[0;31m---------------------------------------------------------------------------\u001b[0m",
            "\u001b[0;31mKeyError\u001b[0m                                  Traceback (most recent call last)",
            "\u001b[0;32m<ipython-input-14-a5d90d39ea0a>\u001b[0m in \u001b[0;36m<cell line: 4>\u001b[0;34m()\u001b[0m\n\u001b[1;32m      2\u001b[0m \u001b[0mprint\u001b[0m\u001b[0;34m(\u001b[0m\u001b[0;34mf'd[1] : {d[1]}'\u001b[0m\u001b[0;34m)\u001b[0m\u001b[0;34m\u001b[0m\u001b[0;34m\u001b[0m\u001b[0m\n\u001b[1;32m      3\u001b[0m \u001b[0mprint\u001b[0m\u001b[0;34m(\u001b[0m\u001b[0;34mf'd[8] : {d[8]}'\u001b[0m\u001b[0;34m)\u001b[0m\u001b[0;34m\u001b[0m\u001b[0;34m\u001b[0m\u001b[0m\n\u001b[0;32m----> 4\u001b[0;31m \u001b[0mprint\u001b[0m\u001b[0;34m(\u001b[0m\u001b[0;34mf'd[2] : {d[2]}'\u001b[0m\u001b[0;34m)\u001b[0m    \u001b[0;31m# Error\u001b[0m\u001b[0;34m\u001b[0m\u001b[0;34m\u001b[0m\u001b[0m\n\u001b[0m",
            "\u001b[0;31mKeyError\u001b[0m: 2"
          ]
        }
      ],
      "source": [
        "d = {1: 'hello', 8: 1.4}\n",
        "print(f'd[1] : {d[1]}')\n",
        "print(f'd[8] : {d[8]}')\n",
        "print(f'd[2] : {d[2]}')    # Error -> there is not such a key!\n"
      ]
    },
    {
      "cell_type": "code",
      "execution_count": 15,
      "id": "f7e54a18",
      "metadata": {
        "id": "f7e54a18",
        "colab": {
          "base_uri": "https://localhost:8080/"
        },
        "outputId": "cb9b2ea7-ef99-4232-9003-273c4f7df71c"
      },
      "outputs": [
        {
          "output_type": "stream",
          "name": "stdout",
          "text": [
            "d : {1: 'hello', 8: 1.4, 2: 444}\n",
            "d[2] : 444\n"
          ]
        }
      ],
      "source": [
        "d[2] = 444\n",
        "print(f'd : {d}')\n",
        "print(f'd[2] : {d[2]}')"
      ]
    },
    {
      "cell_type": "code",
      "execution_count": 16,
      "id": "e4cc8081",
      "metadata": {
        "id": "e4cc8081",
        "colab": {
          "base_uri": "https://localhost:8080/"
        },
        "outputId": "1906146c-3558-47bf-84a0-de48504ebd33"
      },
      "outputs": [
        {
          "output_type": "stream",
          "name": "stdout",
          "text": [
            "d : {1: 'hello', 8: 1.4, 2: 444, 'k': 99}\n"
          ]
        }
      ],
      "source": [
        "d['k'] = 99\n",
        "print(f'd : {d}')"
      ]
    },
    {
      "cell_type": "code",
      "execution_count": 17,
      "id": "a4bb9866",
      "metadata": {
        "id": "a4bb9866",
        "colab": {
          "base_uri": "https://localhost:8080/"
        },
        "outputId": "a6352581-cc78-46f0-e3d3-3ee13e8ee341"
      },
      "outputs": [
        {
          "output_type": "stream",
          "name": "stdout",
          "text": [
            "d.keys() : dict_keys([1, 8, 2, 'k'])\n",
            "d.values() : dict_values(['hello', 1.4, 444, 99])\n",
            "d.items() : dict_items([(1, 'hello'), (8, 1.4), (2, 444), ('k', 99)])\n"
          ]
        }
      ],
      "source": [
        "print(f'd.keys() : {d.keys()}')\n",
        "print(f'd.values() : {d.values()}')\n",
        "print(f'd.items() : {d.items()}')"
      ]
    },
    {
      "cell_type": "code",
      "execution_count": 18,
      "id": "4f9aa8ac",
      "metadata": {
        "id": "4f9aa8ac",
        "colab": {
          "base_uri": "https://localhost:8080/"
        },
        "outputId": "e4d78c8e-1ab3-4909-adcd-3ccf29643d8e"
      },
      "outputs": [
        {
          "output_type": "stream",
          "name": "stdout",
          "text": [
            "d : {1: 'hello', 8: 1.4, 2: 444, 'k': 99}\n",
            "d : {1: 'hello', 8: 1.4, 2: 444}\n"
          ]
        }
      ],
      "source": [
        "print(f'd : {d}')\n",
        "del d['k']\n",
        "print(f'd : {d}')"
      ]
    },
    {
      "cell_type": "markdown",
      "id": "a7627032",
      "metadata": {
        "id": "a7627032"
      },
      "source": [
        "### Conditions"
      ]
    },
    {
      "cell_type": "code",
      "execution_count": 19,
      "id": "af3a9ca8",
      "metadata": {
        "id": "af3a9ca8",
        "colab": {
          "base_uri": "https://localhost:8080/"
        },
        "outputId": "03cbc149-f830-43f5-d2ad-dfdec852aa76"
      },
      "outputs": [
        {
          "output_type": "stream",
          "name": "stdout",
          "text": [
            "2\n"
          ]
        }
      ],
      "source": [
        "i = 12\n",
        "b = 1\n",
        "if i == 12:\n",
        "    b = 2\n",
        "    print(b)"
      ]
    },
    {
      "cell_type": "code",
      "execution_count": 20,
      "id": "082544df",
      "metadata": {
        "id": "082544df",
        "colab": {
          "base_uri": "https://localhost:8080/"
        },
        "outputId": "42dcc975-b20e-49ec-8857-753c1b7dccbe"
      },
      "outputs": [
        {
          "output_type": "stream",
          "name": "stdout",
          "text": [
            "NO\n",
            "i is not equal to 10\n"
          ]
        }
      ],
      "source": [
        "i = 12\n",
        "if i == 10:\n",
        "    print('YES')\n",
        "    print('i equals 10')\n",
        "else:\n",
        "    print('NO')\n",
        "    print('i is not equal to 10')"
      ]
    },
    {
      "cell_type": "code",
      "execution_count": 21,
      "id": "8f0cecda",
      "metadata": {
        "id": "8f0cecda",
        "colab": {
          "base_uri": "https://localhost:8080/"
        },
        "outputId": "ece03fe3-f357-403a-b463-088182c862bc"
      },
      "outputs": [
        {
          "output_type": "stream",
          "name": "stdout",
          "text": [
            "SALAAAMM!!\n"
          ]
        }
      ],
      "source": [
        "i = 11\n",
        "b = 'salam'\n",
        "if i == 12:\n",
        "    print('Twelve')\n",
        "elif i == 11 and b == 'hi':\n",
        "    print('Eleven-hi')\n",
        "elif i > 10 and b == 'salam':\n",
        "    print('SALAAAMM!!')\n",
        "else:\n",
        "    print('None')"
      ]
    },
    {
      "cell_type": "markdown",
      "id": "00d1dd0c",
      "metadata": {
        "id": "00d1dd0c"
      },
      "source": [
        "### while loop"
      ]
    },
    {
      "cell_type": "code",
      "execution_count": 22,
      "id": "6b4bef68",
      "metadata": {
        "id": "6b4bef68",
        "colab": {
          "base_uri": "https://localhost:8080/"
        },
        "outputId": "93c30fd9-c13e-4e51-cf92-399edce666e7"
      },
      "outputs": [
        {
          "output_type": "stream",
          "name": "stdout",
          "text": [
            "100\n",
            "64\n",
            "36\n",
            "16\n",
            "4\n"
          ]
        }
      ],
      "source": [
        "i = 10\n",
        "while i > 0:\n",
        "    print(i*i)\n",
        "    i -= 2"
      ]
    },
    {
      "cell_type": "markdown",
      "id": "ac5adb09",
      "metadata": {
        "id": "ac5adb09"
      },
      "source": [
        "### For loop"
      ]
    },
    {
      "cell_type": "code",
      "execution_count": 23,
      "id": "19b5cab8",
      "metadata": {
        "id": "19b5cab8",
        "colab": {
          "base_uri": "https://localhost:8080/"
        },
        "outputId": "03c1ef51-31ce-414c-de29-78f72a84b526"
      },
      "outputs": [
        {
          "output_type": "stream",
          "name": "stdout",
          "text": [
            "10\n",
            "20\n",
            "30\n",
            "40.2\n",
            "salam\n"
          ]
        }
      ],
      "source": [
        "l = [10,20,30,40.2, 'salam']\n",
        "for k in l:\n",
        "    print(k)"
      ]
    },
    {
      "cell_type": "code",
      "execution_count": 24,
      "id": "4b55f4b1",
      "metadata": {
        "id": "4b55f4b1",
        "colab": {
          "base_uri": "https://localhost:8080/"
        },
        "outputId": "8e015810-0194-4703-e165-abe1d5a79a38"
      },
      "outputs": [
        {
          "output_type": "stream",
          "name": "stdout",
          "text": [
            "2 4\n",
            "3 9\n",
            "4 16\n",
            "5 25\n",
            "6 36\n",
            "7 49\n",
            "8 64\n",
            "9 81\n",
            "10 100\n",
            "11 121\n",
            "12 144\n",
            "13 169\n",
            "14 196\n",
            "15 225\n",
            "16 256\n",
            "17 289\n",
            "18 324\n",
            "19 361\n"
          ]
        }
      ],
      "source": [
        "for k in range(2,20):\n",
        "    print(k, k*k)"
      ]
    },
    {
      "cell_type": "code",
      "execution_count": 25,
      "id": "39fb8b24",
      "metadata": {
        "id": "39fb8b24",
        "colab": {
          "base_uri": "https://localhost:8080/"
        },
        "outputId": "3c5cb984-5424-44da-bcf2-6eb76ef11051"
      },
      "outputs": [
        {
          "output_type": "stream",
          "name": "stdout",
          "text": [
            "1 One\n",
            "2 Two\n",
            "3 Three\n"
          ]
        }
      ],
      "source": [
        "p = [1,2,3]\n",
        "q = ['One','Two','Three']\n",
        "for i in range(len(p)):\n",
        "    print(p[i],q[i])"
      ]
    },
    {
      "cell_type": "markdown",
      "id": "b804553f",
      "metadata": {
        "id": "b804553f"
      },
      "source": [
        "### Functions"
      ]
    },
    {
      "cell_type": "code",
      "execution_count": 26,
      "id": "c903865c",
      "metadata": {
        "id": "c903865c",
        "colab": {
          "base_uri": "https://localhost:8080/"
        },
        "outputId": "0c5ce017-6870-4274-d9c6-541be5e24055"
      },
      "outputs": [
        {
          "output_type": "stream",
          "name": "stdout",
          "text": [
            "5\n",
            "5.1\n",
            "abc123\n"
          ]
        }
      ],
      "source": [
        "def add(a,b):\n",
        "    return a+b\n",
        "\n",
        "print(add(2,3))\n",
        "print(add(2,3.1))\n",
        "print(add('abc', '123'))"
      ]
    },
    {
      "cell_type": "code",
      "execution_count": 27,
      "id": "fe0b17fd",
      "metadata": {
        "id": "fe0b17fd",
        "colab": {
          "base_uri": "https://localhost:8080/",
          "height": 332
        },
        "outputId": "5732110c-b7ba-4009-b8f8-123120990559"
      },
      "outputs": [
        {
          "output_type": "stream",
          "name": "stdout",
          "text": [
            "31\n",
            "45\n"
          ]
        },
        {
          "output_type": "error",
          "ename": "TypeError",
          "evalue": "'int' object is not iterable",
          "traceback": [
            "\u001b[0;31m---------------------------------------------------------------------------\u001b[0m",
            "\u001b[0;31mTypeError\u001b[0m                                 Traceback (most recent call last)",
            "\u001b[0;32m<ipython-input-27-d32b28fcf179>\u001b[0m in \u001b[0;36m<cell line: 10>\u001b[0;34m()\u001b[0m\n\u001b[1;32m      8\u001b[0m \u001b[0mprint\u001b[0m\u001b[0;34m(\u001b[0m\u001b[0msum\u001b[0m\u001b[0;34m(\u001b[0m\u001b[0ml\u001b[0m\u001b[0;34m)\u001b[0m\u001b[0;34m)\u001b[0m\u001b[0;34m\u001b[0m\u001b[0;34m\u001b[0m\u001b[0m\n\u001b[1;32m      9\u001b[0m \u001b[0mprint\u001b[0m\u001b[0;34m(\u001b[0m\u001b[0msum\u001b[0m\u001b[0;34m(\u001b[0m\u001b[0mrange\u001b[0m\u001b[0;34m(\u001b[0m\u001b[0;36m10\u001b[0m\u001b[0;34m)\u001b[0m\u001b[0;34m)\u001b[0m\u001b[0;34m)\u001b[0m\u001b[0;34m\u001b[0m\u001b[0;34m\u001b[0m\u001b[0m\n\u001b[0;32m---> 10\u001b[0;31m \u001b[0mprint\u001b[0m\u001b[0;34m(\u001b[0m\u001b[0msum\u001b[0m\u001b[0;34m(\u001b[0m\u001b[0;36m2\u001b[0m\u001b[0;34m)\u001b[0m\u001b[0;34m)\u001b[0m   \u001b[0;31m# Error\u001b[0m\u001b[0;34m\u001b[0m\u001b[0;34m\u001b[0m\u001b[0m\n\u001b[0m",
            "\u001b[0;32m<ipython-input-27-d32b28fcf179>\u001b[0m in \u001b[0;36msum\u001b[0;34m(l)\u001b[0m\n\u001b[1;32m      1\u001b[0m \u001b[0;32mdef\u001b[0m \u001b[0msum\u001b[0m \u001b[0;34m(\u001b[0m\u001b[0ml\u001b[0m\u001b[0;34m)\u001b[0m\u001b[0;34m:\u001b[0m\u001b[0;34m\u001b[0m\u001b[0;34m\u001b[0m\u001b[0m\n\u001b[1;32m      2\u001b[0m     \u001b[0ms\u001b[0m \u001b[0;34m=\u001b[0m \u001b[0;36m0\u001b[0m\u001b[0;34m\u001b[0m\u001b[0;34m\u001b[0m\u001b[0m\n\u001b[0;32m----> 3\u001b[0;31m     \u001b[0;32mfor\u001b[0m \u001b[0mk\u001b[0m \u001b[0;32min\u001b[0m \u001b[0ml\u001b[0m\u001b[0;34m:\u001b[0m\u001b[0;34m\u001b[0m\u001b[0;34m\u001b[0m\u001b[0m\n\u001b[0m\u001b[1;32m      4\u001b[0m         \u001b[0ms\u001b[0m \u001b[0;34m+=\u001b[0m \u001b[0mk\u001b[0m\u001b[0;34m\u001b[0m\u001b[0;34m\u001b[0m\u001b[0m\n\u001b[1;32m      5\u001b[0m     \u001b[0;32mreturn\u001b[0m \u001b[0ms\u001b[0m\u001b[0;34m\u001b[0m\u001b[0;34m\u001b[0m\u001b[0m\n",
            "\u001b[0;31mTypeError\u001b[0m: 'int' object is not iterable"
          ]
        }
      ],
      "source": [
        "def sum (l):\n",
        "    s = 0\n",
        "    for k in l:\n",
        "        s += k\n",
        "    return s\n",
        "\n",
        "l = [1,2,4,8,16]\n",
        "print(sum(l))\n",
        "print(sum(range(10)))\n",
        "print(sum(2))   # Error -> because 2 is not iterable!"
      ]
    },
    {
      "cell_type": "markdown",
      "id": "ae1a63c9",
      "metadata": {
        "id": "ae1a63c9"
      },
      "source": [
        "#### Default argument values"
      ]
    },
    {
      "cell_type": "code",
      "execution_count": 28,
      "id": "5300e509",
      "metadata": {
        "id": "5300e509",
        "outputId": "4d7fecdc-b979-4a1b-acc2-9ac117443904",
        "colab": {
          "base_uri": "https://localhost:8080/"
        }
      },
      "outputs": [
        {
          "output_type": "stream",
          "name": "stdout",
          "text": [
            "24\n",
            "21\n"
          ]
        }
      ],
      "source": [
        "def add(a,b=1):\n",
        "    return a+b\n",
        "\n",
        "\n",
        "print(add(20,4))\n",
        "print(add(20))"
      ]
    },
    {
      "cell_type": "markdown",
      "id": "501fea4f",
      "metadata": {
        "id": "501fea4f"
      },
      "source": [
        "### Using python modules\n"
      ]
    },
    {
      "cell_type": "code",
      "execution_count": 29,
      "id": "22b81c8b",
      "metadata": {
        "id": "22b81c8b",
        "colab": {
          "base_uri": "https://localhost:8080/"
        },
        "outputId": "f694e87d-528a-4d2f-a6eb-323c01731623"
      },
      "outputs": [
        {
          "output_type": "stream",
          "name": "stdout",
          "text": [
            "1.0 1.0\n",
            "3.141592653589793\n",
            "-1.0\n"
          ]
        }
      ],
      "source": [
        "import math\n",
        "print(math.cos(0), math.exp(0))\n",
        "print(math.pi)\n",
        "print(math.cos(math.pi))"
      ]
    },
    {
      "cell_type": "code",
      "execution_count": 30,
      "id": "31bf18d4",
      "metadata": {
        "id": "31bf18d4",
        "colab": {
          "base_uri": "https://localhost:8080/"
        },
        "outputId": "19c3eccc-2e50-4eff-e3e0-4ca7fa7f9f9f"
      },
      "outputs": [
        {
          "output_type": "stream",
          "name": "stdout",
          "text": [
            "0.0\n"
          ]
        }
      ],
      "source": [
        "import math as m\n",
        "print(m.tan(0))"
      ]
    },
    {
      "cell_type": "code",
      "execution_count": 31,
      "id": "ae8faec6",
      "metadata": {
        "id": "ae8faec6",
        "colab": {
          "base_uri": "https://localhost:8080/"
        },
        "outputId": "6192095e-1c97-41ce-d60d-1198d81bd261"
      },
      "outputs": [
        {
          "output_type": "stream",
          "name": "stdout",
          "text": [
            "2.718281828459045 1.0\n"
          ]
        }
      ],
      "source": [
        "from math import sin, cos, exp, pi\n",
        "print(exp(1), sin(pi/2))"
      ]
    },
    {
      "cell_type": "code",
      "execution_count": 32,
      "id": "9ae13184",
      "metadata": {
        "id": "9ae13184",
        "colab": {
          "base_uri": "https://localhost:8080/"
        },
        "outputId": "bee5aa78-fc2f-4caf-cc0f-a9725028edb1"
      },
      "outputs": [
        {
          "output_type": "stream",
          "name": "stdout",
          "text": [
            "3.141592653589793\n",
            "2.718281828459045\n",
            "1.0\n",
            "1.0\n",
            "0.9999999999999999\n"
          ]
        }
      ],
      "source": [
        "from math import *\n",
        "print(pi)\n",
        "print(e)\n",
        "print(log(e))\n",
        "print(cos(log(1)))\n",
        "print(tan(pi/4))"
      ]
    },
    {
      "cell_type": "markdown",
      "id": "32e44068",
      "metadata": {
        "id": "32e44068"
      },
      "source": [
        "### More practice"
      ]
    },
    {
      "cell_type": "markdown",
      "id": "64532109",
      "metadata": {
        "id": "64532109"
      },
      "source": [
        "#### zip method"
      ]
    },
    {
      "cell_type": "code",
      "execution_count": 33,
      "id": "d8cbce13",
      "metadata": {
        "id": "d8cbce13",
        "colab": {
          "base_uri": "https://localhost:8080/"
        },
        "outputId": "6c0794f8-8f11-4af6-9183-efffd9ccd572"
      },
      "outputs": [
        {
          "output_type": "stream",
          "name": "stdout",
          "text": [
            "[1, 2, 3]\n",
            "['One', 'Two', 'Three']\n",
            "<zip object at 0x7c99744d9080>\n",
            "1 One\n",
            "2 Two\n",
            "3 Three\n"
          ]
        }
      ],
      "source": [
        "p = [1,2,3]\n",
        "q = ['One','Two','Three']\n",
        "\n",
        "print(p)\n",
        "print(q)\n",
        "print(zip(p,q)) # is an iterator of tuples where the first item in each passed iterator is paired together,\n",
        "                # and then the second item in each passed iterator are paired together...\n",
        "\n",
        "for x,y in zip(p,q):\n",
        "    print(x,y)"
      ]
    },
    {
      "cell_type": "markdown",
      "id": "74593588",
      "metadata": {
        "id": "74593588"
      },
      "source": [
        "#### enumerate method"
      ]
    },
    {
      "cell_type": "code",
      "execution_count": 34,
      "id": "b3e9c062",
      "metadata": {
        "id": "b3e9c062",
        "colab": {
          "base_uri": "https://localhost:8080/"
        },
        "outputId": "4bb4e725-210d-4334-b89f-5620a87bae09"
      },
      "outputs": [
        {
          "output_type": "stream",
          "name": "stdout",
          "text": [
            "['a', 'b', 'c']\n",
            "\n",
            "0 a\n",
            "1 b\n",
            "2 c\n"
          ]
        }
      ],
      "source": [
        "l = ['a', 'b', 'c']\n",
        "print(l)\n",
        "print()\n",
        "\n",
        "for i,k in enumerate(l):\n",
        "    print(i,k)"
      ]
    },
    {
      "cell_type": "markdown",
      "id": "458122d9",
      "metadata": {
        "id": "458122d9"
      },
      "source": [
        "#### Initialization of list"
      ]
    },
    {
      "cell_type": "code",
      "execution_count": 35,
      "id": "9975158a",
      "metadata": {
        "id": "9975158a",
        "colab": {
          "base_uri": "https://localhost:8080/"
        },
        "outputId": "e251e0d3-e975-4e3d-f290-bf112c37b107"
      },
      "outputs": [
        {
          "output_type": "stream",
          "name": "stdout",
          "text": [
            "[20, 40, 60]\n"
          ]
        }
      ],
      "source": [
        "l = [10,20,30]\n",
        "t = [2*k for k in l]\n",
        "print(t)"
      ]
    },
    {
      "cell_type": "code",
      "execution_count": 36,
      "id": "84436588",
      "metadata": {
        "id": "84436588",
        "colab": {
          "base_uri": "https://localhost:8080/"
        },
        "outputId": "7b4f038f-fd53-440b-f349-a07a2f184496"
      },
      "outputs": [
        {
          "output_type": "stream",
          "name": "stdout",
          "text": [
            "[0, 1, 2, 3, 4, 5, 6, 7, 8, 9]\n"
          ]
        }
      ],
      "source": [
        "t = [k for k in range(10)]\n",
        "print(t)"
      ]
    },
    {
      "cell_type": "code",
      "execution_count": 37,
      "id": "47e859fa",
      "metadata": {
        "id": "47e859fa",
        "colab": {
          "base_uri": "https://localhost:8080/"
        },
        "outputId": "3b91ef35-72dd-4a41-a2b1-71fb5f19b404"
      },
      "outputs": [
        {
          "output_type": "stream",
          "name": "stdout",
          "text": [
            "[0, 2, 4, 6, 8]\n"
          ]
        }
      ],
      "source": [
        "t = [k for k in range(10) if k % 2 == 0]\n",
        "print(t)"
      ]
    },
    {
      "cell_type": "markdown",
      "id": "a0396ab9",
      "metadata": {
        "id": "a0396ab9"
      },
      "source": [
        "#### Lambda"
      ]
    },
    {
      "cell_type": "code",
      "execution_count": 38,
      "id": "eeafd53d",
      "metadata": {
        "id": "eeafd53d",
        "colab": {
          "base_uri": "https://localhost:8080/"
        },
        "outputId": "ea498d05-38cd-4224-aabf-a0f9546568e3"
      },
      "outputs": [
        {
          "output_type": "stream",
          "name": "stdout",
          "text": [
            "3\n",
            "5\n"
          ]
        }
      ],
      "source": [
        "f = lambda x: 2*x+1\n",
        "print(f(1))\n",
        "print(f(2))"
      ]
    }
  ],
  "metadata": {
    "kernelspec": {
      "display_name": "Python 3 (ipykernel)",
      "language": "python",
      "name": "python3"
    },
    "language_info": {
      "codemirror_mode": {
        "name": "ipython",
        "version": 3
      },
      "file_extension": ".py",
      "mimetype": "text/x-python",
      "name": "python",
      "nbconvert_exporter": "python",
      "pygments_lexer": "ipython3",
      "version": "3.10.5"
    },
    "colab": {
      "provenance": []
    }
  },
  "nbformat": 4,
  "nbformat_minor": 5
}