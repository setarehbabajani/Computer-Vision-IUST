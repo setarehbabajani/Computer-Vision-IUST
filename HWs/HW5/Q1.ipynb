{
  "nbformat": 4,
  "nbformat_minor": 0,
  "metadata": {
    "colab": {
      "provenance": []
    },
    "kernelspec": {
      "name": "python3",
      "display_name": "Python 3"
    },
    "language_info": {
      "name": "python"
    }
  },
  "cells": [
    {
      "cell_type": "markdown",
      "source": [
        "# Importing the Libraries"
      ],
      "metadata": {
        "id": "id9o3gF_Oc2g"
      }
    },
    {
      "cell_type": "code",
      "execution_count": 1,
      "metadata": {
        "id": "ymqBEXyurrGC"
      },
      "outputs": [],
      "source": [
        "import cv2\n",
        "import numpy as np\n",
        "from google.colab.patches import cv2_imshow"
      ]
    },
    {
      "cell_type": "markdown",
      "source": [
        "# Reading the Image"
      ],
      "metadata": {
        "id": "BQKOxiPjOgBt"
      }
    },
    {
      "cell_type": "code",
      "source": [
        "image_path = '/content/q1.png'"
      ],
      "metadata": {
        "id": "_kIT7Qe3setM"
      },
      "execution_count": 2,
      "outputs": []
    },
    {
      "cell_type": "markdown",
      "source": [
        "# Finding the connected components"
      ],
      "metadata": {
        "id": "X-asUM9KOine"
      }
    },
    {
      "cell_type": "code",
      "source": [
        "def find_connected_components(image_path):\n",
        "    # Reading the image in grayscale\n",
        "    image = cv2.imread(image_path, cv2.IMREAD_GRAYSCALE)\n",
        "\n",
        "    # Ensure the image was read properly\n",
        "    if image is None:\n",
        "        raise ValueError(\"Image not found or unable to read image.\")\n",
        "\n",
        "    # Threshold the image to convert it to binary\n",
        "    _, binary_image = cv2.threshold(image, 128, 255, cv2.THRESH_BINARY)\n",
        "\n",
        "    # Find connected components in the binary image\n",
        "    num_labels, labels_im = cv2.connectedComponents(binary_image)\n",
        "\n",
        "    return num_labels, labels_im"
      ],
      "metadata": {
        "id": "HtydbMjdsnmR"
      },
      "execution_count": 3,
      "outputs": []
    },
    {
      "cell_type": "code",
      "source": [
        "def label_components(labels_im):\n",
        "    # Map component labels to hue values for visualization\n",
        "    label_hue = np.uint8(179 * labels_im / np.max(labels_im))\n",
        "\n",
        "    # Create an empty image with all channels set to 255 (white)\n",
        "    blank_ch = 255 * np.ones_like(label_hue)\n",
        "\n",
        "    # Merge the hue channel with the blank channels to create an HSV image\n",
        "    labeled_img = cv2.merge([label_hue, blank_ch, blank_ch])\n",
        "\n",
        "    # Convert the HSV image to BGR format for display\n",
        "    labeled_img = cv2.cvtColor(labeled_img, cv2.COLOR_HSV2BGR)\n",
        "\n",
        "    # Set the background label (0) to black\n",
        "    labeled_img[label_hue == 0] = 0\n",
        "\n",
        "    return labeled_img"
      ],
      "metadata": {
        "id": "rQNPZVijssgx"
      },
      "execution_count": 4,
      "outputs": []
    },
    {
      "cell_type": "code",
      "source": [
        "# Finding connected components\n",
        "num_labels, labels_im = find_connected_components(image_path)\n",
        "\n",
        "# Label components with different colors\n",
        "labeled_img = label_components(labels_im)"
      ],
      "metadata": {
        "id": "Bm4YhshrsvPE"
      },
      "execution_count": 5,
      "outputs": []
    },
    {
      "cell_type": "markdown",
      "source": [
        "# Plotting the result"
      ],
      "metadata": {
        "id": "GUd5YK_TPM6g"
      }
    },
    {
      "cell_type": "code",
      "source": [
        "# Adding the number of connected components to the image\n",
        "cv2.putText(labeled_img, f'Total CCs: {num_labels - 1}', (10, 30),\n",
        "            cv2.FONT_HERSHEY_SIMPLEX, 1, (255, 255, 255), 2, cv2.LINE_AA)\n",
        "\n",
        "# Illustrating the original and labeled images\n",
        "print(\"The original image:\")\n",
        "cv2_imshow(cv2.imread(image_path))\n",
        "print(\"The labeled image:\")\n",
        "cv2_imshow(labeled_img)\n",
        "cv2.waitKey(0)\n",
        "cv2.destroyAllWindows()"
      ],
      "metadata": {
        "colab": {
          "base_uri": "https://localhost:8080/",
          "height": 1000
        },
        "id": "a9g9dbTms2c_",
        "outputId": "c979635a-5a6f-4315-ea67-589f303b6807"
      },
      "execution_count": 6,
      "outputs": [
        {
          "output_type": "stream",
          "name": "stdout",
          "text": [
            "The original image:\n"
          ]
        },
        {
          "output_type": "display_data",
          "data": {
            "text/plain": [
              "<PIL.Image.Image image mode=RGB size=640x480>"
            ],
            "image/png": "[encoded data removed]"
          },
          "metadata": {}
        },
        {
          "output_type": "stream",
          "name": "stdout",
          "text": [
            "The labeled image:\n"
          ]
        },
        {
          "output_type": "display_data",
          "data": {
            "text/plain": [
              "<PIL.Image.Image image mode=RGB size=640x480>"
            ],
            "image/png": "[encoded data removed]"
          },
          "metadata": {}
        }
      ]
    }
  ]
}